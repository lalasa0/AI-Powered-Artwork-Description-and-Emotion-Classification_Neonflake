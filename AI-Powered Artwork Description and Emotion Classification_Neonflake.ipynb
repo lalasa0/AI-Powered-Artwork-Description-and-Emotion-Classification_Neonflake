{
 "cells": [
  {
   "cell_type": "markdown",
   "id": "fa88223a-bd80-40bc-a7fa-574c30e61979",
   "metadata": {},
   "source": [
    "### Install Libraries"
   ]
  },
  {
   "cell_type": "code",
   "execution_count": 1,
   "id": "b7daf6bc-125f-4346-904d-c523c137d050",
   "metadata": {},
   "outputs": [
    {
     "name": "stdout",
     "output_type": "stream",
     "text": [
      "Requirement already satisfied: tf-keras in c:\\users\\dell\\anaconda1\\lib\\site-packages (2.17.0)\n",
      "Requirement already satisfied: tensorflow<2.18,>=2.17 in c:\\users\\dell\\anaconda1\\lib\\site-packages (from tf-keras) (2.17.0)\n",
      "Requirement already satisfied: tensorflow-intel==2.17.0 in c:\\users\\dell\\anaconda1\\lib\\site-packages (from tensorflow<2.18,>=2.17->tf-keras) (2.17.0)\n",
      "Requirement already satisfied: absl-py>=1.0.0 in c:\\users\\dell\\anaconda1\\lib\\site-packages (from tensorflow-intel==2.17.0->tensorflow<2.18,>=2.17->tf-keras) (2.1.0)\n",
      "Requirement already satisfied: astunparse>=1.6.0 in c:\\users\\dell\\anaconda1\\lib\\site-packages (from tensorflow-intel==2.17.0->tensorflow<2.18,>=2.17->tf-keras) (1.6.3)\n",
      "Requirement already satisfied: flatbuffers>=24.3.25 in c:\\users\\dell\\anaconda1\\lib\\site-packages (from tensorflow-intel==2.17.0->tensorflow<2.18,>=2.17->tf-keras) (24.3.25)\n",
      "Requirement already satisfied: gast!=0.5.0,!=0.5.1,!=0.5.2,>=0.2.1 in c:\\users\\dell\\anaconda1\\lib\\site-packages (from tensorflow-intel==2.17.0->tensorflow<2.18,>=2.17->tf-keras) (0.5.4)\n",
      "Requirement already satisfied: google-pasta>=0.1.1 in c:\\users\\dell\\anaconda1\\lib\\site-packages (from tensorflow-intel==2.17.0->tensorflow<2.18,>=2.17->tf-keras) (0.2.0)\n",
      "Requirement already satisfied: h5py>=3.10.0 in c:\\users\\dell\\anaconda1\\lib\\site-packages (from tensorflow-intel==2.17.0->tensorflow<2.18,>=2.17->tf-keras) (3.11.0)\n",
      "Requirement already satisfied: libclang>=13.0.0 in c:\\users\\dell\\anaconda1\\lib\\site-packages (from tensorflow-intel==2.17.0->tensorflow<2.18,>=2.17->tf-keras) (18.1.1)\n",
      "Requirement already satisfied: ml-dtypes<0.5.0,>=0.3.1 in c:\\users\\dell\\anaconda1\\lib\\site-packages (from tensorflow-intel==2.17.0->tensorflow<2.18,>=2.17->tf-keras) (0.3.2)\n",
      "Requirement already satisfied: opt-einsum>=2.3.2 in c:\\users\\dell\\anaconda1\\lib\\site-packages (from tensorflow-intel==2.17.0->tensorflow<2.18,>=2.17->tf-keras) (3.3.0)\n",
      "Requirement already satisfied: packaging in c:\\users\\dell\\anaconda1\\lib\\site-packages (from tensorflow-intel==2.17.0->tensorflow<2.18,>=2.17->tf-keras) (23.1)\n",
      "Requirement already satisfied: protobuf!=4.21.0,!=4.21.1,!=4.21.2,!=4.21.3,!=4.21.4,!=4.21.5,<5.0.0dev,>=3.20.3 in c:\\users\\dell\\anaconda1\\lib\\site-packages (from tensorflow-intel==2.17.0->tensorflow<2.18,>=2.17->tf-keras) (3.20.3)\n",
      "Requirement already satisfied: requests<3,>=2.21.0 in c:\\users\\dell\\anaconda1\\lib\\site-packages (from tensorflow-intel==2.17.0->tensorflow<2.18,>=2.17->tf-keras) (2.31.0)\n",
      "Requirement already satisfied: setuptools in c:\\users\\dell\\anaconda1\\lib\\site-packages (from tensorflow-intel==2.17.0->tensorflow<2.18,>=2.17->tf-keras) (68.2.2)\n",
      "Requirement already satisfied: six>=1.12.0 in c:\\users\\dell\\anaconda1\\lib\\site-packages (from tensorflow-intel==2.17.0->tensorflow<2.18,>=2.17->tf-keras) (1.16.0)\n",
      "Requirement already satisfied: termcolor>=1.1.0 in c:\\users\\dell\\anaconda1\\lib\\site-packages (from tensorflow-intel==2.17.0->tensorflow<2.18,>=2.17->tf-keras) (2.4.0)\n",
      "Requirement already satisfied: typing-extensions>=3.6.6 in c:\\users\\dell\\anaconda1\\lib\\site-packages (from tensorflow-intel==2.17.0->tensorflow<2.18,>=2.17->tf-keras) (4.9.0)\n",
      "Requirement already satisfied: wrapt>=1.11.0 in c:\\users\\dell\\anaconda1\\lib\\site-packages (from tensorflow-intel==2.17.0->tensorflow<2.18,>=2.17->tf-keras) (1.14.1)\n",
      "Requirement already satisfied: grpcio<2.0,>=1.24.3 in c:\\users\\dell\\anaconda1\\lib\\site-packages (from tensorflow-intel==2.17.0->tensorflow<2.18,>=2.17->tf-keras) (1.64.1)\n",
      "Requirement already satisfied: tensorboard<2.18,>=2.17 in c:\\users\\dell\\anaconda1\\lib\\site-packages (from tensorflow-intel==2.17.0->tensorflow<2.18,>=2.17->tf-keras) (2.17.1)\n",
      "Requirement already satisfied: keras>=3.2.0 in c:\\users\\dell\\anaconda1\\lib\\site-packages (from tensorflow-intel==2.17.0->tensorflow<2.18,>=2.17->tf-keras) (3.3.3)\n",
      "Requirement already satisfied: tensorflow-io-gcs-filesystem>=0.23.1 in c:\\users\\dell\\anaconda1\\lib\\site-packages (from tensorflow-intel==2.17.0->tensorflow<2.18,>=2.17->tf-keras) (0.31.0)\n",
      "Requirement already satisfied: numpy<2.0.0,>=1.23.5 in c:\\users\\dell\\anaconda1\\lib\\site-packages (from tensorflow-intel==2.17.0->tensorflow<2.18,>=2.17->tf-keras) (1.26.4)\n",
      "Requirement already satisfied: wheel<1.0,>=0.23.0 in c:\\users\\dell\\anaconda1\\lib\\site-packages (from astunparse>=1.6.0->tensorflow-intel==2.17.0->tensorflow<2.18,>=2.17->tf-keras) (0.41.2)\n",
      "Requirement already satisfied: rich in c:\\users\\dell\\anaconda1\\lib\\site-packages (from keras>=3.2.0->tensorflow-intel==2.17.0->tensorflow<2.18,>=2.17->tf-keras) (13.3.5)\n",
      "Requirement already satisfied: namex in c:\\users\\dell\\anaconda1\\lib\\site-packages (from keras>=3.2.0->tensorflow-intel==2.17.0->tensorflow<2.18,>=2.17->tf-keras) (0.0.8)\n",
      "Requirement already satisfied: optree in c:\\users\\dell\\anaconda1\\lib\\site-packages (from keras>=3.2.0->tensorflow-intel==2.17.0->tensorflow<2.18,>=2.17->tf-keras) (0.11.0)\n",
      "Requirement already satisfied: charset-normalizer<4,>=2 in c:\\users\\dell\\anaconda1\\lib\\site-packages (from requests<3,>=2.21.0->tensorflow-intel==2.17.0->tensorflow<2.18,>=2.17->tf-keras) (2.0.4)\n",
      "Requirement already satisfied: idna<4,>=2.5 in c:\\users\\dell\\anaconda1\\lib\\site-packages (from requests<3,>=2.21.0->tensorflow-intel==2.17.0->tensorflow<2.18,>=2.17->tf-keras) (3.4)\n",
      "Requirement already satisfied: urllib3<3,>=1.21.1 in c:\\users\\dell\\anaconda1\\lib\\site-packages (from requests<3,>=2.21.0->tensorflow-intel==2.17.0->tensorflow<2.18,>=2.17->tf-keras) (2.0.7)\n",
      "Requirement already satisfied: certifi>=2017.4.17 in c:\\users\\dell\\anaconda1\\lib\\site-packages (from requests<3,>=2.21.0->tensorflow-intel==2.17.0->tensorflow<2.18,>=2.17->tf-keras) (2024.2.2)\n",
      "Requirement already satisfied: markdown>=2.6.8 in c:\\users\\dell\\anaconda1\\lib\\site-packages (from tensorboard<2.18,>=2.17->tensorflow-intel==2.17.0->tensorflow<2.18,>=2.17->tf-keras) (3.4.1)\n",
      "Requirement already satisfied: tensorboard-data-server<0.8.0,>=0.7.0 in c:\\users\\dell\\anaconda1\\lib\\site-packages (from tensorboard<2.18,>=2.17->tensorflow-intel==2.17.0->tensorflow<2.18,>=2.17->tf-keras) (0.7.2)\n",
      "Requirement already satisfied: werkzeug>=1.0.1 in c:\\users\\dell\\anaconda1\\lib\\site-packages (from tensorboard<2.18,>=2.17->tensorflow-intel==2.17.0->tensorflow<2.18,>=2.17->tf-keras) (2.2.3)\n",
      "Requirement already satisfied: MarkupSafe>=2.1.1 in c:\\users\\dell\\anaconda1\\lib\\site-packages (from werkzeug>=1.0.1->tensorboard<2.18,>=2.17->tensorflow-intel==2.17.0->tensorflow<2.18,>=2.17->tf-keras) (2.1.3)\n",
      "Requirement already satisfied: markdown-it-py<3.0.0,>=2.2.0 in c:\\users\\dell\\anaconda1\\lib\\site-packages (from rich->keras>=3.2.0->tensorflow-intel==2.17.0->tensorflow<2.18,>=2.17->tf-keras) (2.2.0)\n",
      "Requirement already satisfied: pygments<3.0.0,>=2.13.0 in c:\\users\\dell\\anaconda1\\lib\\site-packages (from rich->keras>=3.2.0->tensorflow-intel==2.17.0->tensorflow<2.18,>=2.17->tf-keras) (2.15.1)\n",
      "Requirement already satisfied: mdurl~=0.1 in c:\\users\\dell\\anaconda1\\lib\\site-packages (from markdown-it-py<3.0.0,>=2.2.0->rich->keras>=3.2.0->tensorflow-intel==2.17.0->tensorflow<2.18,>=2.17->tf-keras) (0.1.0)\n",
      "Note: you may need to restart the kernel to use updated packages.\n"
     ]
    }
   ],
   "source": [
    "pip install tf-keras"
   ]
  },
  {
   "cell_type": "code",
   "execution_count": 3,
   "id": "c56832ab-9112-400d-8465-94c96ebe5413",
   "metadata": {},
   "outputs": [
    {
     "name": "stdout",
     "output_type": "stream",
     "text": [
      "Requirement already satisfied: transformers in c:\\users\\dell\\anaconda1\\lib\\site-packages (4.44.1)\n",
      "Requirement already satisfied: pillow in c:\\users\\dell\\anaconda1\\lib\\site-packages (10.2.0)\n",
      "Requirement already satisfied: requests in c:\\users\\dell\\anaconda1\\lib\\site-packages (2.31.0)\n",
      "Requirement already satisfied: filelock in c:\\users\\dell\\anaconda1\\lib\\site-packages (from transformers) (3.13.1)\n",
      "Requirement already satisfied: huggingface-hub<1.0,>=0.23.2 in c:\\users\\dell\\anaconda1\\lib\\site-packages (from transformers) (0.23.4)\n",
      "Requirement already satisfied: numpy>=1.17 in c:\\users\\dell\\anaconda1\\lib\\site-packages (from transformers) (1.26.4)\n",
      "Requirement already satisfied: packaging>=20.0 in c:\\users\\dell\\anaconda1\\lib\\site-packages (from transformers) (23.1)\n",
      "Requirement already satisfied: pyyaml>=5.1 in c:\\users\\dell\\anaconda1\\lib\\site-packages (from transformers) (6.0.1)\n",
      "Requirement already satisfied: regex!=2019.12.17 in c:\\users\\dell\\anaconda1\\lib\\site-packages (from transformers) (2023.10.3)\n",
      "Requirement already satisfied: safetensors>=0.4.1 in c:\\users\\dell\\anaconda1\\lib\\site-packages (from transformers) (0.4.3)\n",
      "Requirement already satisfied: tokenizers<0.20,>=0.19 in c:\\users\\dell\\anaconda1\\lib\\site-packages (from transformers) (0.19.1)\n",
      "Requirement already satisfied: tqdm>=4.27 in c:\\users\\dell\\anaconda1\\lib\\site-packages (from transformers) (4.65.0)\n",
      "Requirement already satisfied: charset-normalizer<4,>=2 in c:\\users\\dell\\anaconda1\\lib\\site-packages (from requests) (2.0.4)\n",
      "Requirement already satisfied: idna<4,>=2.5 in c:\\users\\dell\\anaconda1\\lib\\site-packages (from requests) (3.4)\n",
      "Requirement already satisfied: urllib3<3,>=1.21.1 in c:\\users\\dell\\anaconda1\\lib\\site-packages (from requests) (2.0.7)\n",
      "Requirement already satisfied: certifi>=2017.4.17 in c:\\users\\dell\\anaconda1\\lib\\site-packages (from requests) (2024.2.2)\n",
      "Requirement already satisfied: fsspec>=2023.5.0 in c:\\users\\dell\\anaconda1\\lib\\site-packages (from huggingface-hub<1.0,>=0.23.2->transformers) (2023.10.0)\n",
      "Requirement already satisfied: typing-extensions>=3.7.4.3 in c:\\users\\dell\\anaconda1\\lib\\site-packages (from huggingface-hub<1.0,>=0.23.2->transformers) (4.9.0)\n",
      "Requirement already satisfied: colorama in c:\\users\\dell\\anaconda1\\lib\\site-packages (from tqdm>=4.27->transformers) (0.4.6)\n",
      "Note: you may need to restart the kernel to use updated packages.\n"
     ]
    }
   ],
   "source": [
    "pip install transformers pillow requests"
   ]
  },
  {
   "cell_type": "markdown",
   "id": "e5802eb6-8500-441e-823f-df09c26f58ac",
   "metadata": {},
   "source": [
    "### Single Image Input"
   ]
  },
  {
   "cell_type": "code",
   "execution_count": 7,
   "id": "1a520c8e-6913-48ce-ba9e-dd6f28dcdef8",
   "metadata": {},
   "outputs": [
    {
     "name": "stdout",
     "output_type": "stream",
     "text": [
      "Image Description: a person standing on a mountain at sunset\n",
      "Emotional Tone: fear\n"
     ]
    }
   ],
   "source": [
    "import requests\n",
    "from PIL import Image\n",
    "from io import BytesIO\n",
    "from transformers import BlipProcessor, BlipForConditionalGeneration\n",
    "from transformers import pipeline\n",
    "\n",
    "# Initialize the processor and model for generating image descriptions\n",
    "processor = BlipProcessor.from_pretrained(\"Salesforce/blip-image-captioning-base\")\n",
    "model = BlipForConditionalGeneration.from_pretrained(\"Salesforce/blip-image-captioning-base\")\n",
    "\n",
    "# Initialize an emotion analysis pipeline\n",
    "emotion_classifier = pipeline(\"sentiment-analysis\", model=\"j-hartmann/emotion-english-distilroberta-base\")\n",
    "\n",
    "def get_image_description(image_url):\n",
    "    # Fetch the image content from the URL\n",
    "    response = requests.get(image_url)\n",
    "    \n",
    "    if response.status_code == 200:\n",
    "        try:\n",
    "            image = Image.open(BytesIO(response.content)).convert(\"RGB\")\n",
    "        except Exception as e:\n",
    "            raise UnidentifiedImageError(f\"Failed to identify the image: {e}\")\n",
    "    else:\n",
    "        raise Exception(f\"Failed to fetch image. Status code: {response.status_code}\")\n",
    "\n",
    "    # Generate image description\n",
    "    inputs = processor(image, return_tensors=\"pt\")\n",
    "    out = model.generate(**inputs)\n",
    "    description = processor.decode(out[0], skip_special_tokens=True)\n",
    "    return description\n",
    "\n",
    "def analyze_emotion(description):\n",
    "    # Analyze emotion based on the description\n",
    "    emotion_result = emotion_classifier(description)\n",
    "    emotion = emotion_result[0][\"label\"]\n",
    "    return emotion\n",
    "\n",
    "def generate_artwork_description_and_emotion(image_url):\n",
    "    description = get_image_description(image_url)\n",
    "    emotion = analyze_emotion(description)\n",
    "    return description, emotion\n",
    "\n",
    "# Use a different image URL that is valid\n",
    "image_url = \"https://images.unsplash.com/photo-1506748686214-e9df14d4d9d0\"\n",
    "\n",
    "description, emotion = generate_artwork_description_and_emotion(image_url)\n",
    "\n",
    "print(f\"Image Description: {description}\")\n",
    "print(f\"Emotional Tone: {emotion}\")\n"
   ]
  },
  {
   "cell_type": "markdown",
   "id": "364bfb8a-3757-4362-80c1-d0600d955fce",
   "metadata": {},
   "source": [
    "### 3 Input Images"
   ]
  },
  {
   "cell_type": "code",
   "execution_count": 10,
   "id": "1dac574e-4294-42f9-ae06-8aa228126237",
   "metadata": {},
   "outputs": [
    {
     "name": "stdout",
     "output_type": "stream",
     "text": [
      "Image 1 Description: a wooden dock sits on a lake at night\n",
      "Image 1 Emotional Tone: fear\n",
      "\n",
      "Image 2 Description: a cat with a white face and yellow eyes\n",
      "Image 2 Emotional Tone: surprise\n",
      "\n",
      "Image 3 Description: a man smiling while standing in front of a bush\n",
      "Image 3 Emotional Tone: joy\n",
      "\n"
     ]
    }
   ],
   "source": [
    "import requests\n",
    "from PIL import Image\n",
    "from io import BytesIO\n",
    "from transformers import BlipProcessor, BlipForConditionalGeneration\n",
    "from transformers import pipeline\n",
    "\n",
    "# Initialize the processor and model for generating image descriptions\n",
    "processor = BlipProcessor.from_pretrained(\"Salesforce/blip-image-captioning-base\")\n",
    "model = BlipForConditionalGeneration.from_pretrained(\"Salesforce/blip-image-captioning-base\")\n",
    "\n",
    "# Initialize an emotion analysis pipeline\n",
    "emotion_classifier = pipeline(\"sentiment-analysis\", model=\"j-hartmann/emotion-english-distilroberta-base\")\n",
    "\n",
    "def get_image_description(image_url, max_new_tokens=50):\n",
    "    # Fetch the image content from the URL\n",
    "    response = requests.get(image_url)\n",
    "    \n",
    "    if response.status_code == 200:\n",
    "        try:\n",
    "            image = Image.open(BytesIO(response.content)).convert(\"RGB\")\n",
    "        except Exception as e:\n",
    "            raise UnidentifiedImageError(f\"Failed to identify the image: {e}\")\n",
    "    else:\n",
    "        raise Exception(f\"Failed to fetch image. Status code: {response.status_code}\")\n",
    "\n",
    "    # Generate image description\n",
    "    inputs = processor(image, return_tensors=\"pt\")\n",
    "    out = model.generate(**inputs, max_new_tokens=max_new_tokens)\n",
    "    description = processor.decode(out[0], skip_special_tokens=True)\n",
    "    return description\n",
    "\n",
    "def analyze_emotion(description):\n",
    "    # Analyze emotion based on the description\n",
    "    emotion_result = emotion_classifier(description)\n",
    "    emotion = emotion_result[0][\"label\"]\n",
    "    return emotion\n",
    "\n",
    "def generate_artwork_description_and_emotion(image_url):\n",
    "    description = get_image_description(image_url)\n",
    "    emotion = analyze_emotion(description)\n",
    "    return description, emotion\n",
    "\n",
    "# Test the function with three valid image URLs\n",
    "image_urls = [\n",
    "    \"https://images.pexels.com/photos/414612/pexels-photo-414612.jpeg\",  # Mountain landscape\n",
    "    \"https://images.pexels.com/photos/104827/cat-pet-animal-domestic-104827.jpeg\",  # Cat\n",
    "    \"https://images.pexels.com/photos/91227/pexels-photo-91227.jpeg\"   # Night sky with stars\n",
    "]\n",
    "\n",
    "for i, url in enumerate(image_urls, 1):\n",
    "    try:\n",
    "        description, emotion = generate_artwork_description_and_emotion(url)\n",
    "        print(f\"Image {i} Description: {description}\")\n",
    "        print(f\"Image {i} Emotional Tone: {emotion}\\n\")\n",
    "    except Exception as e:\n",
    "        print(f\"Failed to process image {url}: {e}\")\n",
    "\n",
    "# Next Steps:\n",
    "# 1. Refining the Description: If the generated description or emotion doesn't fully align with expectations,\n",
    "#    you can fine-tune the model, adjust the max_new_tokens, or try different images.\n",
    "# 2. Experiment with different max_new_tokens values to see how it affects the description length.\n",
    "# 3. Explore other models or techniques for generating more detailed or varied descriptions.\n"
   ]
  }
 ],
 "metadata": {
  "kernelspec": {
   "display_name": "Python 3 (ipykernel)",
   "language": "python",
   "name": "python3"
  },
  "language_info": {
   "codemirror_mode": {
    "name": "ipython",
    "version": 3
   },
   "file_extension": ".py",
   "mimetype": "text/x-python",
   "name": "python",
   "nbconvert_exporter": "python",
   "pygments_lexer": "ipython3",
   "version": "3.11.7"
  }
 },
 "nbformat": 4,
 "nbformat_minor": 5
}
